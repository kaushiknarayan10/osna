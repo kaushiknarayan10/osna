{
 "cells": [
  {
   "cell_type": "code",
   "execution_count": 9,
   "metadata": {
    "collapsed": true
   },
   "outputs": [],
   "source": []
  },
  {
   "cell_type": "code",
   "execution_count": 3,
   "metadata": {
    "collapsed": false
   },
   "outputs": [
    {
     "data": {
      "image/png": "[encoded data removed]",
      "text/plain": [
       "<matplotlib.figure.Figure at 0x105d72358>"
      ]
     },
     "metadata": {},
     "output_type": "display_data"
    }
   ],
   "source": [
    "from collections import Counter, defaultdict, deque\n",
    "import copy\n",
    "import math\n",
    "import networkx as nx\n",
    "import urllib.request\n",
    "%matplotlib inline\n",
    "def example_graph():\n",
    "    \"\"\"\n",
    "    Create the example graph from class. Used for testing.\n",
    "    Do not modify.\n",
    "    \"\"\"\n",
    "    g = nx.Graph()\n",
    "    g.add_edges_from([('A', 'B'), ('A', 'C'), ('B', 'C'), ('B', 'D'), ('D', 'E'), ('D', 'F'), ('D', 'G'), ('E', 'F'), ('G', 'F')])\n",
    "    return g\n",
    "\n",
    "graph = example_graph()\n",
    "nx.draw(graph, with_labels=True)"
   ]
  },
  {
   "cell_type": "code",
   "execution_count": 302,
   "metadata": {
    "collapsed": false
   },
   "outputs": [
    {
     "data": {
      "text/plain": [
       "[('A', ['B']),\n",
       " ('B', ['D']),\n",
       " ('C', ['B']),\n",
       " ('D', ['E']),\n",
       " ('F', ['E']),\n",
       " ('G', ['D', 'F'])]"
      ]
     },
     "execution_count": 302,
     "metadata": {},
     "output_type": "execute_result"
    }
   ],
   "source": [
    "def bfs(graph, root, max_depth):\n",
    "    visited = set()\n",
    "    main_node = root\n",
    "    depth = 0\n",
    "    node2distances = defaultdict(int)\n",
    "    node2parents = defaultdict(list)\n",
    "    node2num_paths = defaultdict(int)\n",
    "    nodedist = defaultdict(int)\n",
    "    total = deque(root)\n",
    "    while total:\n",
    "        vertex = total.pop()\n",
    "        root = graph.neighbors(vertex)\n",
    "        path = nx.dijkstra_path(graph,main_node,vertex,'distance')\n",
    "        node2distances[vertex] = len(path)-1\n",
    "        shortest_path = nx.all_shortest_paths(graph,source=main_node,target=vertex)\n",
    "        node2num_paths[vertex] = len(list(shortest_path))\n",
    "        if node2distances[vertex] < max_depth:\n",
    "            if vertex not in visited:\n",
    "                visited.add(vertex)\n",
    "                for r in root:\n",
    "                    nodedist = len(nx.dijkstra_path(graph,main_node,r,'distance'))-1\n",
    "                    if r not in visited:\n",
    "                        total.append(r)\n",
    "                    if nodedist == node2distances[vertex]+1:\n",
    "                        node2parents[r].append(vertex)\n",
    "                        \n",
    "\n",
    "    return node2distances,node2num_paths,node2parents\n",
    "                        \n",
    "node2distances, node2num_paths, node2parents = bfs(example_graph(), 'E', 5)\n",
    "sorted((node, sorted(parents)) for node, parents in node2parents.items())"
   ]
  },
  {
   "cell_type": "code",
   "execution_count": 36,
   "metadata": {
    "collapsed": false
   },
   "outputs": [
    {
     "data": {
      "text/plain": [
       "['E']"
      ]
     },
     "execution_count": 36,
     "metadata": {},
     "output_type": "execute_result"
    }
   ],
   "source": [
    "nx.dijkstra_path(graph,'E','E','distance')"
   ]
  },
  {
   "cell_type": "code",
   "execution_count": 43,
   "metadata": {
    "collapsed": false
   },
   "outputs": [
    {
     "data": {
      "text/plain": [
       "{'A': ['E', 'D', 'B', 'A'],\n",
       " 'B': ['E', 'D', 'B'],\n",
       " 'C': ['E', 'D', 'B', 'C'],\n",
       " 'D': ['E', 'D'],\n",
       " 'E': ['E'],\n",
       " 'F': ['E', 'F'],\n",
       " 'G': ['E', 'D', 'G']}"
      ]
     },
     "execution_count": 43,
     "metadata": {},
     "output_type": "execute_result"
    }
   ],
   "source": [
    "nx.single_source_shortest_path(graph, 'E', cutoff=None)"
   ]
  },
  {
   "cell_type": "code",
   "execution_count": 2,
   "metadata": {
    "collapsed": false
   },
   "outputs": [
    {
     "name": "stdout",
     "output_type": "stream",
     "text": [
      "1\n"
     ]
    }
   ],
   "source": [
    "p = nx.all_shortest_paths(graph,source='E',target='D')\n",
    "print(len(list(p)))"
   ]
  },
  {
   "cell_type": "code",
   "execution_count": 105,
   "metadata": {
    "collapsed": false
   },
   "outputs": [],
   "source": [
    "def bfs2(graph, root, max_depth):\n",
    "    dq = deque()\n",
    "    node2distances = defaultdict(int)\n",
    "    node2num_paths = defaultdict(int)\n",
    "    node2parents = defaultdict(list)\n",
    "    visited = []\n",
    "    visited.append(root)\n",
    "    dq.append(root)\n",
    "    node2num_paths[root]=1\n",
    "    while dq:\n",
    "        parent = dq.popleft()\n",
    "        children = graph.neighbors(parent)\n",
    "        for child in children:\n",
    "            if node2distances[parent] < max_depth:\n",
    "                if child not in visited:\n",
    "                    visited.append(child)\n",
    "                    dq.append(child)\n",
    "                    node2distances[child] = node2distances[parent] + 1\n",
    "                if node2distances[child] == node2distances[parent] + 1:\n",
    "                    node2parents[child].append(parent)\n",
    "                    node2num_paths[child] = len(node2parents[child])\n",
    "    return node2distances, node2num_paths, node2parents\n",
    "graph = example_graph()            \n",
    "node2distances, node2num_paths, node2parents = bfs2(graph, 'E', 2)"
   ]
  },
  {
   "cell_type": "code",
   "execution_count": 208,
   "metadata": {
    "collapsed": false
   },
   "outputs": [
    {
     "data": {
      "text/plain": [
       "{('A', 'B'): 1.0,\n",
       " ('B', 'C'): 1.0,\n",
       " ('B', 'D'): 3.0,\n",
       " ('D', 'E'): 4.5,\n",
       " ('D', 'G'): 0.5,\n",
       " ('E', 'F'): 1.5,\n",
       " ('F', 'G'): 0.5}"
      ]
     },
     "execution_count": 208,
     "metadata": {},
     "output_type": "execute_result"
    }
   ],
   "source": [
    "def bottom_up(root, node2distances, node2num_paths, node2parents):\n",
    "    nodes = defaultdict(float)\n",
    "    result = {}\n",
    "    for key in node2parents:\n",
    "        nodes[key] = 1/node2num_paths[key]\n",
    "\n",
    "    for key,val in sorted(node2distances.items(),key=lambda x: -x[1]):\n",
    "        for newkey in node2parents[key]:\n",
    "            nodes[newkey] = nodes[newkey] + nodes[key]\n",
    "            result[tuple(sorted([key,newkey]))] = nodes[key]\n",
    "            \n",
    "    return result\n",
    "\n",
    "\n",
    "graph = example_graph()            \n",
    "node2distances, node2num_paths, node2parents = bfs(graph, 'E', 5)\n",
    "bottom_up('E', node2distances, node2num_paths, node2parents)\n"
   ]
  },
  {
   "cell_type": "code",
   "execution_count": 209,
   "metadata": {
    "collapsed": false
   },
   "outputs": [
    {
     "data": {
      "text/plain": [
       "{('A', 'B'): 1.0,\n",
       " ('B', 'C'): 1.0,\n",
       " ('B', 'D'): 3.0,\n",
       " ('D', 'E'): 4.5,\n",
       " ('D', 'G'): 0.5,\n",
       " ('E', 'F'): 1.5,\n",
       " ('F', 'G'): 0.5}"
      ]
     },
     "execution_count": 209,
     "metadata": {},
     "output_type": "execute_result"
    }
   ],
   "source": [
    "def bup(root, node2distances, node2num_paths, node2parents):    \n",
    "    node2dist = sorted(node2distances.items(), key=lambda x: -x[1])\n",
    "    edgeOfNode = defaultdict(float)\n",
    "\n",
    "\n",
    "    for i in node2parents:\n",
    "        edgeOfNode[i] = 1/node2num_paths[i]\n",
    "\n",
    "    for i,j in node2dist:\n",
    "        for k in node2parents[i]:\n",
    "            edgeOfNode[k]=edgeOfNode[k]+edgeOfNode[i]\n",
    "    edgeOfNode.pop(root)\n",
    "\n",
    "    edgeDict = {}\n",
    "    for i,j in node2dist:\n",
    "        for k in node2parents[i]:\n",
    "            edgeDict[tuple(sorted([i,k]))] = edgeOfNode[i]\n",
    "\n",
    "    return edgeDict\n",
    "\n",
    "graph = example_graph()            \n",
    "node2distances, node2num_paths, node2parents = bfs(graph, 'E', 5)\n",
    "bup('E', node2distances, node2num_paths, node2parents)"
   ]
  },
  {
   "cell_type": "code",
   "execution_count": 154,
   "metadata": {
    "collapsed": false
   },
   "outputs": [
    {
     "data": {
      "text/plain": [
       "{('B', 'A'): 0.23809523809523808,\n",
       " ('B', 'C'): 0.23809523809523808,\n",
       " ('B', 'D'): 0.5714285714285714,\n",
       " ('C', 'A'): 0.047619047619047616,\n",
       " ('E', 'D'): 0.21428571428571427,\n",
       " ('F', 'D'): 0.19047619047619047,\n",
       " ('F', 'E'): 0.07142857142857142,\n",
       " ('F', 'G'): 0.07142857142857142,\n",
       " ('G', 'D'): 0.21428571428571427}"
      ]
     },
     "execution_count": 154,
     "metadata": {},
     "output_type": "execute_result"
    }
   ],
   "source": [
    "graph = example_graph()\n",
    "nx.edge_betweenness_centrality(graph)"
   ]
  },
  {
   "cell_type": "code",
   "execution_count": 201,
   "metadata": {
    "collapsed": false
   },
   "outputs": [
    {
     "data": {
      "text/plain": [
       "{('B', 'A'): 5.0,\n",
       " ('B', 'C'): 5.0,\n",
       " ('B', 'D'): 12.0,\n",
       " ('C', 'A'): 1.0,\n",
       " ('E', 'D'): 4.5,\n",
       " ('F', 'D'): 4.0,\n",
       " ('F', 'E'): 1.5,\n",
       " ('F', 'G'): 1.5,\n",
       " ('G', 'D'): 4.5}"
      ]
     },
     "execution_count": 201,
     "metadata": {},
     "output_type": "execute_result"
    }
   ],
   "source": [
    "graph = example_graph()\n",
    "nx.edge_betweenness_centrality_subset(graph,graph.nodes(),graph.nodes())"
   ]
  },
  {
   "cell_type": "code",
   "execution_count": 212,
   "metadata": {
    "collapsed": false
   },
   "outputs": [
    {
     "name": "stdout",
     "output_type": "stream",
     "text": [
      "A\n",
      "D\n",
      "E\n",
      "G\n",
      "C\n",
      "F\n",
      "B\n"
     ]
    }
   ],
   "source": [
    "graph = example_graph()\n",
    "q = deque(graph.nodes())\n",
    "while len(q)!= 0:\n",
    "    root = q.pop()\n",
    "    print(root)\n",
    "    "
   ]
  },
  {
   "cell_type": "code",
   "execution_count": 220,
   "metadata": {
    "collapsed": false
   },
   "outputs": [
    {
     "data": {
      "text/plain": [
       "defaultdict(list,\n",
       "            {('A', 'B'): 4.0,\n",
       "             ('A', 'C'): 2.0,\n",
       "             ('B', 'C'): 4.0,\n",
       "             ('B', 'D'): 12.0,\n",
       "             ('D', 'E'): 5.0,\n",
       "             ('D', 'F'): 4.0,\n",
       "             ('D', 'G'): 5.0,\n",
       "             ('E', 'F'): 3.0,\n",
       "             ('F', 'G'): 3.0})"
      ]
     },
     "execution_count": 220,
     "metadata": {},
     "output_type": "execute_result"
    }
   ],
   "source": [
    "def approximate_betweenness(graph, max_depth):   \n",
    "    approx_betweenness = defaultdict(list)\n",
    "    all_nodes = deque(graph.nodes())\n",
    "    while len(all_nodes)!=0:\n",
    "        root = all_nodes.pop()\n",
    "        node2distances, node2num_paths, node2parents = bfs(graph, root, max_depth )\n",
    "        bup = bottom_up(root, node2distances, node2num_paths, node2parents)\n",
    "        for key in bup:\n",
    "            if key in approx_betweenness:\n",
    "                approx_betweenness[key] = approx_betweenness[key]+bup[key]\n",
    "            if key not in approx_betweenness:\n",
    "                approx_betweenness[key]= bup[key]\n",
    "                \n",
    "    for key in approx_betweenness:\n",
    "        approx_betweenness[key] = approx_betweenness[key]/2\n",
    "\n",
    "    return approx_betweenness\n",
    "\n",
    "approximate_betweenness(example_graph(),2)"
   ]
  },
  {
   "cell_type": "code",
   "execution_count": 221,
   "metadata": {
    "collapsed": false
   },
   "outputs": [
    {
     "name": "stdout",
     "output_type": "stream",
     "text": [
      "defaultdict(None, {})\n",
      "defaultdict(None, {('D', 'G'): 1.0, ('A', 'B'): 1.0, ('D', 'E'): 1.0, ('D', 'F'): 1.0, ('B', 'C'): 1.0, ('B', 'D'): 4.0})\n",
      "defaultdict(None, {('E', 'F'): 1.0, ('D', 'G'): 1.0, ('F', 'G'): 1.0, ('A', 'B'): 1.0, ('D', 'E'): 1.0, ('D', 'F'): 3.0, ('B', 'C'): 1.0, ('B', 'D'): 5.0})\n",
      "defaultdict(None, {('E', 'F'): 1.0, ('D', 'G'): 1.0, ('F', 'G'): 1.0, ('A', 'B'): 1.0, ('A', 'C'): 1.0, ('D', 'E'): 1.0, ('D', 'F'): 3.0, ('B', 'C'): 3.0, ('B', 'D'): 6.0})\n",
      "defaultdict(None, {('E', 'F'): 1.5, ('D', 'G'): 3.5, ('F', 'G'): 2.5, ('A', 'B'): 1.0, ('A', 'C'): 1.0, ('D', 'E'): 1.5, ('D', 'F'): 3.0, ('B', 'C'): 3.0, ('B', 'D'): 7.0})\n",
      "defaultdict(None, {('E', 'F'): 3.0, ('D', 'G'): 4.0, ('F', 'G'): 3.0, ('A', 'B'): 1.0, ('A', 'C'): 1.0, ('D', 'E'): 4.0, ('D', 'F'): 3.0, ('B', 'C'): 3.0, ('B', 'D'): 8.0})\n",
      "defaultdict(None, {('E', 'F'): 3.0, ('D', 'G'): 5.0, ('F', 'G'): 3.0, ('A', 'B'): 2.0, ('A', 'C'): 1.0, ('D', 'E'): 5.0, ('D', 'F'): 4.0, ('B', 'C'): 4.0, ('B', 'D'): 11.0})\n"
     ]
    },
    {
     "data": {
      "text/plain": [
       "defaultdict(None,\n",
       "            {('A', 'B'): 2.0,\n",
       "             ('A', 'C'): 1.0,\n",
       "             ('B', 'C'): 2.0,\n",
       "             ('B', 'D'): 6.0,\n",
       "             ('D', 'E'): 2.5,\n",
       "             ('D', 'F'): 2.0,\n",
       "             ('D', 'G'): 2.5,\n",
       "             ('E', 'F'): 1.5,\n",
       "             ('F', 'G'): 1.5})"
      ]
     },
     "execution_count": 221,
     "metadata": {},
     "output_type": "execute_result"
    }
   ],
   "source": [
    "def approx_btw(graph, max_depth):  \n",
    "    ApproxDict = defaultdict()\n",
    "    for root in graph.nodes():\n",
    "        node2distances, node2num_paths, node2parents = bfs2(example_graph(), root, max_depth )\n",
    "        bottomDict = bup(root, node2distances, node2num_paths, node2parents)\n",
    "        print(ApproxDict)\n",
    "        for edge in bottomDict:\n",
    "            if edge in ApproxDict:\n",
    "                ApproxDict[edge] = ApproxDict[edge]+bottomDict[edge]\n",
    "            else:\n",
    "                ApproxDict[edge]= bottomDict[edge]\n",
    "\n",
    "    for i in ApproxDict:\n",
    "        ApproxDict[i] = ApproxDict[i]/2\n",
    "\n",
    "    return ApproxDict\n",
    "approx_btw(example_graph(),2)"
   ]
  },
  {
   "cell_type": "code",
   "execution_count": 226,
   "metadata": {
    "collapsed": false
   },
   "outputs": [
    {
     "data": {
      "text/plain": [
       "['A', 'B', 'C']"
      ]
     },
     "execution_count": 226,
     "metadata": {},
     "output_type": "execute_result"
    }
   ],
   "source": [
    "def gnwm(graph, max_depth):\n",
    "    components = [c for c in nx.connected_component_subgraphs(graph)]\n",
    "    while len(components) == 1:\n",
    "        edge_to_remove = sorted(approximate_betweenness(graph, max_depth).items(), key=lambda x:x[1], reverse = True)[0][0]\n",
    "        graph.remove_edge(*edge_to_remove)\n",
    "        components = [c for c in nx.connected_component_subgraphs(graph)]\n",
    "\n",
    "    #result = [c.nodes() for c in components]\n",
    "    return components\n",
    "\n",
    "components = gnwm(example_graph(), 5)\n",
    "components = sorted(components, key=lambda x: sorted(x.nodes())[0])\n",
    "sorted(components[0].nodes())"
   ]
  },
  {
   "cell_type": "code",
   "execution_count": 342,
   "metadata": {
    "collapsed": false
   },
   "outputs": [
    {
     "name": "stdout",
     "output_type": "stream",
     "text": [
      "2\n"
     ]
    },
    {
     "data": {
      "text/plain": [
       "['D', 'E', 'F', 'G']"
      ]
     },
     "execution_count": 342,
     "metadata": {},
     "output_type": "execute_result"
    }
   ],
   "source": [
    "def partition_girvan_newman(graph, max_depth):\n",
    "    components = [n for n in nx.connected_component_subgraphs(graph)]\n",
    "\n",
    "    for component in components:\n",
    "        unwanted_edges = sorted(approximate_betweenness(graph, max_depth).items(), key=lambda x:x[1], reverse = True)\n",
    "        unwanted_edges = unwanted_edges[0][0]\n",
    "        graph.remove_edge(*unwanted_edges)\n",
    "        components = [n for n in nx.connected_component_subgraphs(graph)]\n",
    "        print(len(components))\n",
    "\n",
    "    return components\n",
    "\n",
    "components = partition_girvan_newman(example_graph(), 5)\n",
    "components = sorted(components, key=lambda x: sorted(x.nodes())[0])\n",
    "sorted(components[1].nodes())"
   ]
  },
  {
   "cell_type": "code",
   "execution_count": 261,
   "metadata": {
    "collapsed": false
   },
   "outputs": [
    {
     "data": {
      "text/plain": [
       "['D']"
      ]
     },
     "execution_count": 261,
     "metadata": {},
     "output_type": "execute_result"
    }
   ],
   "source": [
    "def get_sub(graph, min_degree):\n",
    "    subgraph = graph.copy()\n",
    "    for node in subgraph.degree().items():\n",
    "        if node[1] < min_degree:\n",
    "            subgraph.remove_node(node[0])\n",
    "    return subgraph\n",
    "\n",
    "subgraph = get_sub(example_graph(), 4)\n",
    "sorted(subgraph.nodes())"
   ]
  },
  {
   "cell_type": "code",
   "execution_count": 303,
   "metadata": {
    "collapsed": false
   },
   "outputs": [
    {
     "data": {
      "text/plain": [
       "['D']"
      ]
     },
     "execution_count": 303,
     "metadata": {},
     "output_type": "execute_result"
    }
   ],
   "source": [
    "def get_subgraph(graph, min_degree):\n",
    "    subgraph = graph.subgraph(graph.nodes())\n",
    "    degree = subgraph.degree()\n",
    "    to_keep = [n for n in degree if degree[n] >= min_degree]\n",
    "    final_sub = graph.subgraph(to_keep)\n",
    "    return final_sub\n",
    "\n",
    "subgraph = get_subgraph(example_graph(), 4)\n",
    "sorted(subgraph.nodes())"
   ]
  },
  {
   "cell_type": "code",
   "execution_count": 289,
   "metadata": {
    "collapsed": false
   },
   "outputs": [
    {
     "name": "stdout",
     "output_type": "stream",
     "text": [
      "('B', 'D')\n",
      "('B', 'C')\n"
     ]
    },
    {
     "data": {
      "text/plain": [
       "0"
      ]
     },
     "execution_count": 289,
     "metadata": {},
     "output_type": "execute_result"
    }
   ],
   "source": [
    "def volume(nodes,graph):\n",
    "    vol = 0;\n",
    "    edge = [e for e in graph.edges_iter()]\n",
    "    for x in range(0,2):\n",
    "        print(edge[x])\n",
    "#        if edge[x] in nodes:\n",
    "#            vol = vol + 1\n",
    "#        elif e[1] in nodes:\n",
    "#            vol = vol + 1\n",
    "    return vol\n",
    "\n",
    "\n",
    "volume(['A', 'B', 'C'], example_graph())"
   ]
  },
  {
   "cell_type": "code",
   "execution_count": 291,
   "metadata": {
    "collapsed": false
   },
   "outputs": [
    {
     "data": {
      "text/plain": [
       "2"
      ]
     },
     "execution_count": 291,
     "metadata": {},
     "output_type": "execute_result"
    }
   ],
   "source": [
    "def cut(S,T,graph):\n",
    "    cut = 0\n",
    "    edge = [e for e in graph.edges_iter()]\n",
    "    for e in edge:\n",
    "        if e[0] in S and e[1] in T:\n",
    "            cut = cut + 1\n",
    "        if e[1] in S and e[0] in T:\n",
    "            cut = cut + 1\n",
    "    return cut\n",
    "\n",
    "cut(['A', 'B'], ['C'], example_graph())"
   ]
  },
  {
   "cell_type": "code",
   "execution_count": 292,
   "metadata": {
    "collapsed": true
   },
   "outputs": [],
   "source": [
    "def norm_cut(S, T, graph):\n",
    "    norm_cut = (cut(S, T, graph)/volume(S,graph)) + (cut(S,T,graph)/volume(T,graph))\n",
    "    return norm_cut"
   ]
  },
  {
   "cell_type": "code",
   "execution_count": 304,
   "metadata": {
    "collapsed": true
   },
   "outputs": [],
   "source": [
    "def score_max_depths(graph, max_depths):\n",
    "    new_graph = graph\n",
    "    score = list(int,float)\n",
    "    for depth in max_depths:\n",
    "        partitions = partition_girvan_newman(new_graph, depth)\n",
    "        list1 = partitions[0]\n",
    "        list2 = partitions[1]\n",
    "#        oldGraph = graph.copy()\n",
    "        score.append((depth,norm_cut(list1, list2, oldGraph)))\n",
    "    return score"
   ]
  },
  {
   "cell_type": "code",
   "execution_count": 5,
   "metadata": {
    "collapsed": false
   },
   "outputs": [
    {
     "data": {
      "text/plain": [
       "['F', 'G']"
      ]
     },
     "execution_count": 5,
     "metadata": {},
     "output_type": "execute_result"
    }
   ],
   "source": [
    "def make_training_graph(graph, test_node, n):\n",
    "    oldgraph = graph\n",
    "    neighbors = sorted(oldgraph.neighbors(test_node))\n",
    "    for x in range(0,n):\n",
    "        oldgraph.remove_edge(neighbors[x],test_node)\n",
    "    return oldgraph\n",
    "\n",
    "g = example_graph()\n",
    "sorted(g.neighbors('D'))\n",
    "train_graph = make_training_graph(g, 'D', 2)\n",
    "sorted(train_graph.neighbors('D'))"
   ]
  },
  {
   "cell_type": "code",
   "execution_count": 1,
   "metadata": {
    "collapsed": false
   },
   "outputs": [
    {
     "name": "stdout",
     "output_type": "stream",
     "text": [
      "1\n"
     ]
    }
   ],
   "source": [
    "a = [2]\n",
    "print(len(a))"
   ]
  },
  {
   "cell_type": "code",
   "execution_count": 74,
   "metadata": {
    "collapsed": false
   },
   "outputs": [
    {
     "data": {
      "text/plain": [
       "[('D', 'A', 0.0), ('D', 'E', 0.5)]"
      ]
     },
     "execution_count": 74,
     "metadata": {},
     "output_type": "execute_result"
    }
   ],
   "source": [
    "def rank_by_jaccard(graph, node, k):\n",
    "    jaccard = nx.jaccard_coefficient(graph)\n",
    "    scores = []\n",
    "    for j in jaccard:\n",
    "        if j[0] == node:\n",
    "            scores.append(j)\n",
    "    final = sorted(scores, key=lambda x: x[2], reverse=False)\n",
    "    return final[-2:]\n",
    "\n",
    "g = example_graph()\n",
    "train_graph = make_training_graph(g, 'D', 2)\n",
    "rank_by_jaccard(train_graph, 'D', 2)"
   ]
  },
  {
   "cell_type": "code",
   "execution_count": null,
   "metadata": {
    "collapsed": true
   },
   "outputs": [],
   "source": []
  },
  {
   "cell_type": "code",
   "execution_count": 75,
   "metadata": {
    "collapsed": false
   },
   "outputs": [
    {
     "name": "stdout",
     "output_type": "stream",
     "text": [
      "A\n",
      "E\n",
      "0.0\n",
      "B\n",
      "E\n",
      "0.25\n",
      "B\n",
      "F\n",
      "0.2\n",
      "B\n",
      "G\n",
      "0.25\n",
      "C\n",
      "E\n",
      "0.0\n",
      "D\n",
      "A\n",
      "0.2\n",
      "D\n",
      "C\n",
      "0.2\n",
      "F\n",
      "A\n",
      "0.0\n",
      "F\n",
      "C\n",
      "0.0\n",
      "G\n",
      "A\n",
      "0.0\n",
      "G\n",
      "C\n",
      "0.0\n",
      "G\n",
      "E\n",
      "1.0\n"
     ]
    }
   ],
   "source": [
    "graph = example_graph()\n",
    "res = nx.jaccard_coefficient(graph)\n",
    "for x,y,z in res:\n",
    "    print (x)\n",
    "    print(y)\n",
    "    print(z)"
   ]
  },
  {
   "cell_type": "code",
   "execution_count": 103,
   "metadata": {
    "collapsed": false
   },
   "outputs": [
    {
     "data": {
      "text/plain": [
       "0.5"
      ]
     },
     "execution_count": 103,
     "metadata": {},
     "output_type": "execute_result"
    }
   ],
   "source": [
    "def eval(predicted_edges, graph):\n",
    "    edge = sorted(graph.edges_iter(), key=lambda x: x[1], reverse=False)\n",
    "    count = 0\n",
    "    for e in edge:\n",
    "        for p in predicted_edges:\n",
    "            if sorted(p) == sorted(e):\n",
    "                count = count + 1\n",
    "                    \n",
    "    return count/len(predicted_edges)\n",
    "\n",
    "eval([('D', 'E'), ('D', 'A')], example_graph())\n",
    "    "
   ]
  }
 ],
 "metadata": {
  "kernelspec": {
   "display_name": "Python 3",
   "language": "python",
   "name": "python3"
  },
  "language_info": {
   "codemirror_mode": {
    "name": "ipython",
    "version": 3
   },
   "file_extension": ".py",
   "mimetype": "text/x-python",
   "name": "python",
   "nbconvert_exporter": "python",
   "pygments_lexer": "ipython3",
   "version": "3.5.2"
  }
 },
 "nbformat": 4,
 "nbformat_minor": 1
}
