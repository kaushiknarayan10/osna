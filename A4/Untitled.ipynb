{
 "cells": [
  {
   "cell_type": "code",
   "execution_count": 150,
   "metadata": {
    "collapsed": false
   },
   "outputs": [],
   "source": [
    "from collections import Counter\n",
    "import matplotlib.pyplot as plt\n",
    "import networkx as nx\n",
    "import sys\n",
    "import time\n",
    "from TwitterAPI import TwitterAPI\n",
    "from collections import Counter\n",
    "import pickle\n",
    "from zipfile import ZipFile\n",
    "from urllib.request import urlopen\n",
    "from io import BytesIO\n",
    "import re\n",
    "\n",
    "consumer_key = 'JyrZ4DEjv6NPw4da7x3VEX1lM'\n",
    "consumer_secret = 'ACA0VFQLWntdWuC9GUyZ2VM7IopMjJ8LAskUnvWD6z4F9E6uKz'\n",
    "access_token = '771134752929767424-VN16texnckjaNOj5Fe1278mdCyNU3ry'\n",
    "access_token_secret = 'pXmyxBHg2lZ914WUaQu8itCSSg32iDYgdF8Psqcb6TgP6'\n",
    "\n",
    "def get_twitter():\n",
    "    \"\"\" Construct an instance of TwitterAPI using the tokens you entered above.\n",
    "    Returns:\n",
    "      An instance of TwitterAPI.\n",
    "    \"\"\"\n",
    "    return TwitterAPI(consumer_key, consumer_secret, access_token, access_token_secret)"
   ]
  },
  {
   "cell_type": "code",
   "execution_count": 383,
   "metadata": {
    "collapsed": false
   },
   "outputs": [
    {
     "name": "stdout",
     "output_type": "stream",
     "text": [
      "100 tweets\n",
      "200 tweets\n",
      "300 tweets\n",
      "400 tweets\n",
      "500 tweets\n",
      "100 tweets\n",
      "200 tweets\n",
      "300 tweets\n",
      "400 tweets\n",
      "500 tweets\n"
     ]
    }
   ],
   "source": [
    "def get_tweets():\n",
    "    twitter = get_twitter()\n",
    "    trump_tweets = []\n",
    "    hillary_tweets = []\n",
    "    n_tweets=500\n",
    "    for r in twitter.request('statuses/filter', {'track': 'trump', 'language':'en'}):\n",
    "        if 'text' in r.keys():\n",
    "            trump_tweets.append(r)\n",
    "            if len(trump_tweets) % 100 == 0:\n",
    "                print('%d tweets' % len(trump_tweets))\n",
    "            if len(trump_tweets) >= n_tweets:\n",
    "                break\n",
    "                \n",
    "    for r2 in twitter.request('statuses/filter', {'track': 'hillary', 'language':'en'}):\n",
    "        if 'text' in r2.keys():\n",
    "            hillary_tweets.append(r2)\n",
    "            if len(hillary_tweets) % 100 == 0:\n",
    "                print('%d tweets' % len(hillary_tweets))\n",
    "            if len(hillary_tweets) >= n_tweets:\n",
    "                break\n",
    "                \n",
    "#    for r1 in twitter.request('statuses/filter', {'track': 'hillary', 'language':'en'}):\n",
    "#        if 'text' in r1.keys():\n",
    "#            tweets_hillary.append(r1)\n",
    "#            if len(tweets) % 100 == 0:\n",
    "#                print('%d tweets' % len(tweets))\n",
    "#            if len(tweets_hillary) >= n_tweets:\n",
    "#                break\n",
    "    \n",
    "    save_file('trump_tweets.txt',trump_tweets)\n",
    "    save_file('hillary_tweets.txt',hillary_tweets)\n",
    "get_tweets()"
   ]
  },
  {
   "cell_type": "code",
   "execution_count": 127,
   "metadata": {
    "collapsed": false
   },
   "outputs": [
    {
     "name": "stdout",
     "output_type": "stream",
     "text": [
      "RT @KaraCalavera: I want to let Trump know every day of his presidency that he lost the popular vote by 2.5 million votes. He loves r… \n",
      "Según Wilbur Ross secretario de Comercio Trump, venezuela puede ser pieza clave https://t.co/XDWPdFzLrC 95  !\n",
      "RT @PrisonPlanet: Yet ANOTHER hate crime. Man beaten by mob because they suspected he voted for Trump. https://t.co/F63wErGmAN\n",
      "Trump: Companies won't leave U.S. 'without consequences' #video https://t.co/BnB5lqu3Hx https://t.co/pojTgLF1y1\n",
      "RT @Mediaite: Fox’s Gutfeld: If Obama Took ‘Victory Lap’ Like Trump, ‘This Network Would Explode’ https://t.co/XNxY4PxfZQ (VIDEO) https://t…\n",
      "RT @GartrellLinda: This Is Fantastic - Watch Donald Trump in the Greatest Christmas Carol Ever https://t.co/dRQGnoPWES\n",
      "MERRY CHRISTMAS!\n",
      "Hil…\n",
      "RT @Rockprincess818: There's no difference between Obama going on the View to discuss his personal and political views &amp; Trump Tweeting the…\n",
      "RT @WeNeedTrump: Even with a rigged election, Trump won 3,084 out of 3,141 counties in the United States. #MAGA https://t.co/aWECDnu3HF\n",
      "Donald Trump is Poaching the Worst and Dimmest for His Administration From Fox News - https://t.co/QWSQOQmrUw\n",
      "Damn Bernie with the good burns https://t.co/7FeoMqSv0d\n",
      "@foxnewstalk Obama had the same opportunity to keep Carrier but his ideology stopped him. Trump shows his loyalty to the American business.\n",
      "Donald Trump is the sort of guy who'd swipe right on his daughter on Tinder\n",
      "Según Wilbur Ross secretario de Comercio Trump, venezuela puede ser pieza clave https://t.co/bmVxhT6QuE 95  !\n",
      "RT @Olivianuzzi: This is a preview of the next four years: Trump taking credit for yuge successes that, upon inspection, aren't really that…\n",
      "RT @aldape_muoi: Forget The White House! We Bring You TRUMP's GOLD HOUSE!  https://t.co/B1egVRSu2H\n",
      "Trump Tunjuk Tokoh Anti Muslim Amerika Jadi Tim Penasihat https://t.co/dcSUdqJ7gx\n",
      "RT @LisaBloom: Boycott Trump app now trending as top lifestyle app, up there with Tinder and Zillow. Because every dollar is a vote https:/…\n",
      "RT @SenSanders: Where'd you get your PhD? Trump University? https://t.co/P5Ez5fVEwD\n",
      "RT @SenSanders: Where'd you get your PhD? Trump University? https://t.co/P5Ez5fVEwD\n",
      "RT @ShaunKing: In other words, Trump's Chief Strategist is too hateful for Frosted Flakes &amp; Car Insurance, but not the White House\n",
      "\n",
      "https:/…\n",
      "RT @SenSanders: Where'd you get your PhD? Trump University? https://t.co/P5Ez5fVEwD\n",
      "RT @BernieSanders: Carrier gets millions in tax breaks. Indiana loses thousands of jobs. United Technologies took Trump hostage and won.\n",
      "RT @ZantiMisft: Hillary has worn this fleece for two decades. So elitist. So out of touch with regular folks. https://t.co/h2WXlyJFK4\n",
      "Según Wilbur Ross secretario de Comercio Trump, venezuela puede ser pieza clave https://t.co/ABn0LGcPB1 95  !\n",
      "@benshapiro @ShapiroThugLife @politico @realDonaldTrump I think Trump gave them a plan on how to increase their revenues.\n",
      "RT @rweingarten: Worth noting that Donald Trump is assembling the richest administration in modern American history https://t.co/qiq2IzFSCW\n",
      "RT @ACLU_NorCal: ACLU of Northern California Executive Director @AbdiSoltani on plans for a Trump Administration. https://t.co/tA9LAXy5zB\n",
      "RT @mommasgotworms: that's why he was elected to be our president - America's last hope and an answer to prayer - thank God! https://t.co/3…\n",
      "RT @Montgomery_bjm: As long as Trump can claim he \"saved\" some jobs, that works in Trump's world.  Especially when Pence took it from I… \n",
      "RT @hausmuva: translation: I was willing to empower whiteness/white supremacy until I learned that I may not be considered white… \n",
      "If I knew that Trump would've caused this much traffic I would've voted for Hillary\n",
      "Trump Takes Victory Lap At Carrier Plant. Will he use taxpayer money to buy off every company? #unsustainable https://t.co/JiSJjFtMTG\n",
      "RT @molly_knight: Many people are saying Trump supporters already feel conned, and are live-tweeting their #regret. Sad! #MAGA https://t.co…\n",
      "Según Wilbur Ross secretario de Comercio Trump, venezuela puede ser pieza clave https://t.co/EXbwOvGesm 95  !\n",
      "RT @JaredWyand: Trump is our President. Obama never stopped anyone from leaving because America losing jobs is what he calls \"global social…\n",
      "CONGRATULATIONS!(&amp; THANK YOU!)\n",
      "Nobel Prize Winner Fulfills Promise To Leave US After Trump Victory https://t.co/WxlZGAbG0t via @dailycaller\n",
      "RT @KellyJeanJames: Hillary Clinton wasn’t charged with mishandling classified information. Trump might appoint someone convicted of it. ht…\n",
      "I wonder why all of Trump's accusers just DISSAPEARED after the election? Low energy maybe? Maybe the #NotMyPresident people can answer?\n",
      "RT @JamilSmith: A good op-ed from @SenSanders ripping Trump's deal with Carrier. https://t.co/pXQ3USMofL\n",
      ".@bradmillscan @JamesGRickards no he wasn't that's 1st part, he expected Trump to be bullish for gold over all which many did &amp; got killed🤐\n",
      "RT @CorrectDemocrat: BREAKING: Trump Names USMC Gen Mattis as Secretary of Defense  https://t.co/85gUfxpvEv\n",
      "Según Wilbur Ross secretario de Comercio Trump, venezuela puede ser pieza clave https://t.co/1MV6kLn0oP 95  !\n",
      "RT @Georgiehoward45: Brexit, Trump as president elect and now Larry Lamb off Im a celeb, never trusting the public again. #ImACeleb\n",
      "RT @mitchellvii: .@AnnCoulter is entitled to her opinion, but her track record on judging Trump's picks is not great... https://t.co/XXtND1…\n",
      "RT @TomasBilbao: President of Iberostar hotels reveals that Trump was trying to secure hotels in #Cuba over the past six months. https://t.…\n",
      "RT @SenWarren: Trump, Mnuchin &amp; @HouseGOP may be willing to gamble w/ our economy, but @HouseDemocrats should side with ppl who want toughe…\n",
      "Oh my God, I can't take 4 years of those hand gestures. I can't. I need new meds. Where the hell is my Dr? MEDIC!! https://t.co/gxVUnV44Z8\n",
      "#ThursdayThoughts Why is @CNN @AlisynCamerota so mean to nice people; she asked the question. B #trump #MAGA \n",
      "\n",
      "https://t.co/kSmoVXyHJx\n",
      "Sorry, folks.  Have to wait for Trump. https://t.co/kPPtuzmjrm\n",
      "RT @Arianna8927: So we are not losing? But Trump told me we are losing. I'm so confused now. https://t.co/xDKapkZp2f\n",
      "RT @politicususa: Trump Files Objection To Michigan Recount As Republicans Appear To Be Getting Nervous via @politicususa https://t.co/bHUw…\n",
      "RT @JaredWyand: On the left: Fake News from corrupt media\n",
      "\n",
      "On the right: the reality of what Trump just accomplished\n",
      "\n",
      "#Carrier https://t.co…\n",
      "RT @GeorgeTakei: Reports are, Trump offered government contracts to keep Carrier jobs in Indiana. Our pig of a president is now offering po…\n",
      "@politico can't believe in America SOME PEOPLE NOT ALL have elected trump THE KING AND HIS DICTATORS THATS WHAT THIS IS !!!\n",
      "Según Wilbur Ross secretario de Comercio Trump, venezuela puede ser pieza clave https://t.co/hTTenOtwPy 95  !\n",
      "RT @SenSanders: Where'd you get your PhD? Trump University? https://t.co/P5Ez5fVEwD\n",
      "...none of the blame will fall on Trump or on the ideologues hiding in his shadow. It will fall on POC, immigrants, feminists, \"liberals.\"\n",
      "Slim: La presidencia de Trump podría ser buena para México https://t.co/xhP2dQ2vD1\n",
      "RT @AJDelgado13: Carrier CEO told Trump of the 10K UPCOMING jobs, they're now envisioning keeping those HERE whereas, previously, they'd ha…\n",
      "RT @chrislhayes: This is really really bad. https://t.co/9633sfarP2\n",
      "This video is hilarious.. I love his personality 😭😭 https://t.co/oBPONIA1NX\n",
      "RT @3lectric5heep: #Hawaii - Contact your Senators!\n",
      "\n",
      "Let them know you VOTE, and that you expect them to Fully Support President Trump… \n",
      "I still cant believe donald trump is going to be running the united states\n",
      "RT @JeffreyGuterman: As #Trump touts #Carrier deal, #Indiana employers lay off five times that many workers due to foreign competition.… \n",
      "RT @JuddLegum: 1. Pay very close attention to what is happening with Trump and Carrier. It's the opposite of what's being reported. https:/…\n",
      "RT @peteschroeder: Hedge fund manager takes \"glee\" in Trump conning voters with anti-Wall Street message. https://t.co/Mq5ufhSRt8 https://t…\n",
      "RT @politico: The Carrier deal – the first major test of Trump's anti-trade stance – is already coming under fire… \n",
      "RT @andylassner: Do NOT use this photo of Donald Trump. \n",
      "He does NOT like it. \n",
      "He told reporters he HATES it. \n",
      "\n",
      "Please RETWEET. https://t.c…\n",
      "RT @TheDemocrats: Remember that time Donald Trump promised to \"drain the swamp\" in Washington? He lied. https://t.co/5VhbJ7F5p7\n",
      "Según Wilbur Ross secretario de Comercio Trump, venezuela puede ser pieza clave https://t.co/L4NeKvex30 95  !\n",
      "RT @mattyglesias: Trump's embrace of voter fraud conspiracies as a prelude to disenfranchisement is an utterly mainstream conservativ… \n",
      "@quarrington28 @CllrBSilvester \n",
      "\n",
      "\"Sometimes, by losing a battle you find a new way to win the war\"\n",
      "\n",
      "- US President Elect, Donald Trump\n",
      "On the positive side, Mattis has pushed back against using torture in intelligence gathering. #pragmatism… https://t.co/IuJuvHB7N5\n",
      "RT @SenSanders: Where'd you get your PhD? Trump University? https://t.co/P5Ez5fVEwD\n",
      "RT @lookwhoitiz: This fleece has more experience than Donald Trump. https://t.co/simUmaambd\n",
      "RT @TheFix: Donald Trump will be president thanks to 80,000 people in three states https://t.co/6UetZN22Iw https://t.co/aX6QMRGuQp\n",
      "RT @SenSanders: Where'd you get your PhD? Trump University? https://t.co/P5Ez5fVEwD\n",
      "RT @Carrier: We are pleased to have reached a deal with President-elect Trump &amp; VP-elect Pence to keep close to 1,000 jobs in Indy. More de…\n"
     ]
    },
    {
     "ename": "KeyError",
     "evalue": "'text'",
     "output_type": "error",
     "traceback": [
      "\u001b[0;31m---------------------------------------------------------------------------\u001b[0m",
      "\u001b[0;31mKeyError\u001b[0m                                  Traceback (most recent call last)",
      "\u001b[0;32m<ipython-input-127-0c13c39b9411>\u001b[0m in \u001b[0;36m<module>\u001b[0;34m()\u001b[0m\n\u001b[1;32m      4\u001b[0m \u001b[0;31m#print(text)\u001b[0m\u001b[0;34m\u001b[0m\u001b[0;34m\u001b[0m\u001b[0m\n\u001b[1;32m      5\u001b[0m \u001b[0;32mfor\u001b[0m \u001b[0mt\u001b[0m \u001b[0;32min\u001b[0m \u001b[0mtweets\u001b[0m\u001b[0;34m:\u001b[0m\u001b[0;34m\u001b[0m\u001b[0m\n\u001b[0;32m----> 6\u001b[0;31m     \u001b[0mprint\u001b[0m\u001b[0;34m(\u001b[0m\u001b[0mt\u001b[0m\u001b[0;34m[\u001b[0m\u001b[0;34m'text'\u001b[0m\u001b[0;34m]\u001b[0m\u001b[0;34m)\u001b[0m\u001b[0;34m\u001b[0m\u001b[0m\n\u001b[0m\u001b[1;32m      7\u001b[0m \u001b[0;31m#print(len(tweets))\u001b[0m\u001b[0;34m\u001b[0m\u001b[0;34m\u001b[0m\u001b[0m\n\u001b[1;32m      8\u001b[0m \u001b[0;31m#print([t['user']['screen_name'] for t in tweets])\u001b[0m\u001b[0;34m\u001b[0m\u001b[0;34m\u001b[0m\u001b[0m\n",
      "\u001b[0;31mKeyError\u001b[0m: 'text'"
     ]
    }
   ],
   "source": [
    "inputfile = open('tweets.txt','rb')\n",
    "tweets = pickle.load(inputfile)\n",
    "#text = [t['text'] for t in tweets]\n",
    "#print(text)\n",
    "for t in tweets:\n",
    "    print(t['text'])\n",
    "#print(len(tweets))\n",
    "#print([t['user']['screen_name'] for t in tweets])\n",
    "#loc = [t['user']['location'] for t in tweets]\n",
    "#c1 = Counter(loc)\n",
    "#print(c1.most_common(10))"
   ]
  },
  {
   "cell_type": "code",
   "execution_count": 232,
   "metadata": {
    "collapsed": true
   },
   "outputs": [],
   "source": [
    "def save_file(filename,data):\n",
    "    out = open(filename,'ab+')\n",
    "#    tweets = get_tweets()\n",
    "    pickle.dump(data,out)\n",
    "    out.close()\n",
    "    \n",
    "    "
   ]
  },
  {
   "cell_type": "code",
   "execution_count": 233,
   "metadata": {
    "collapsed": true
   },
   "outputs": [],
   "source": [
    "def load_file(filename):\n",
    "    inputfile = open(filename,'rb')\n",
    "    data = pickle.load(inputfile)\n",
    "    return data\n",
    "    "
   ]
  },
  {
   "cell_type": "code",
   "execution_count": 151,
   "metadata": {
    "collapsed": false
   },
   "outputs": [],
   "source": [
    "def afinn_down():\n",
    "    url = urlopen('http://www2.compute.dtu.dk/~faan/data/AFINN.zip')\n",
    "    zipfile = ZipFile(BytesIO(url.read()))\n",
    "    afinn_file = zipfile.open('AFINN/AFINN-111.txt')\n",
    "    afinn = dict()\n",
    "    for line in afinn_file:\n",
    "        parts = line.strip().split()\n",
    "        if len(parts) == 2:\n",
    "            afinn[parts[0].decode(\"utf-8\")] = int(parts[1])\n",
    "    save_file('afinn_data.txt',afinn)\n",
    "    \n",
    "afinn_down()\n"
   ]
  },
  {
   "cell_type": "code",
   "execution_count": 384,
   "metadata": {
    "collapsed": false
   },
   "outputs": [],
   "source": [
    "def sentiment_analysis():\n",
    "    tokens = []\n",
    "    trump_tweets = load_file('trump_tweets.txt')\n",
    "    hillary_tweets = load_file('hillary_tweets.txt')\n",
    "    afinn = load_file('afinn_data.txt')\n",
    "    trump_tokens = tokenize(trump_tweets)\n",
    "    hillary_tokens = tokenize(hillary_tweets)\n",
    "    trump_positives = []\n",
    "    trump_negatives = []\n",
    "    hillary_positives = []\n",
    "    hillary_negatives = []\n",
    "    for token_list, tweet in zip(trump_tokens, trump_tweets):\n",
    "        pos, neg = afinn_score(token_list, afinn)\n",
    "        if pos > neg1:\n",
    "            trump_positives.append((tweet['text'], pos, neg))\n",
    "                \n",
    "        elif neg > pos:\n",
    "            trump_negatives.append((tweet['text'], pos, neg))\n",
    "    \n",
    "    save_file('trump_positive.txt',trump_positives)\n",
    "    save_file('trump_negative.txt',trump_negatives)\n",
    "    \n",
    "    for token_list, tweet in zip(hillary_tokens, hillary_tweets):\n",
    "        pos, neg = afinn_score(token_list, afinn)\n",
    "        if pos > neg:\n",
    "            hillary_positives.append((tweet['text'], pos, neg))\n",
    "                \n",
    "        elif neg > pos:\n",
    "            hillary_negatives.append((tweet['text'], pos, neg))\n",
    "    \n",
    "    save_file('hillary_positive.txt',hillary_positives)\n",
    "    save_file('hillary_negative.txt',hillary_negatives)\n",
    "    \n",
    "    \n",
    "#    for tweet, pos, neg in sorted(negatives, key=lambda x: x[1], reverse=True):\n",
    "#        print(pos, neg, tweet)\n",
    "        \n",
    "sentiment_analysis()\n",
    "    "
   ]
  },
  {
   "cell_type": "code",
   "execution_count": 358,
   "metadata": {
    "collapsed": true
   },
   "outputs": [],
   "source": [
    "def afinn_score(terms, afinn):\n",
    "    pos = 0\n",
    "    neg = 0\n",
    "    for t in terms:\n",
    "        if t in afinn:\n",
    "            if afinn[t] > 0:\n",
    "                pos += afinn[t]\n",
    "            else:\n",
    "                neg += -1 * afinn[t] \n",
    "    return pos, neg"
   ]
  },
  {
   "cell_type": "code",
   "execution_count": 225,
   "metadata": {
    "collapsed": true
   },
   "outputs": [],
   "source": [
    "def tokenize(tweets):\n",
    "    tokens = []\n",
    "    for tweet in tweets:\n",
    "        text = tweet['text'].lower()\n",
    "        text = re.sub('@\\S+', ' ', text)\n",
    "        text = re.sub('http\\S+', ' ', text)\n",
    "        tokens.append(re.findall('[A-Za-z]+', text))\n",
    "    return tokens"
   ]
  },
  {
   "cell_type": "code",
   "execution_count": 340,
   "metadata": {
    "collapsed": false
   },
   "outputs": [
    {
     "ename": "TwitterRequestError",
     "evalue": "Twitter request failed (429)",
     "output_type": "error",
     "traceback": [
      "\u001b[0;31m---------------------------------------------------------------------------\u001b[0m",
      "\u001b[0;31mTwitterRequestError\u001b[0m                       Traceback (most recent call last)",
      "\u001b[0;32m<ipython-input-340-5b0011f33fd2>\u001b[0m in \u001b[0;36m<module>\u001b[0;34m()\u001b[0m\n\u001b[1;32m     27\u001b[0m \u001b[0;31m#    friends = [r for r in request]\u001b[0m\u001b[0;34m\u001b[0m\u001b[0;34m\u001b[0m\u001b[0m\n\u001b[1;32m     28\u001b[0m \u001b[0;31m#    save_file('followers.txt',friends)\u001b[0m\u001b[0;34m\u001b[0m\u001b[0;34m\u001b[0m\u001b[0m\n\u001b[0;32m---> 29\u001b[0;31m \u001b[0mcluster\u001b[0m\u001b[0;34m(\u001b[0m\u001b[0;34m)\u001b[0m\u001b[0;34m\u001b[0m\u001b[0m\n\u001b[0m",
      "\u001b[0;32m<ipython-input-340-5b0011f33fd2>\u001b[0m in \u001b[0;36mcluster\u001b[0;34m()\u001b[0m\n\u001b[1;32m      8\u001b[0m \u001b[0;31m#    friends = dict.fromkeys('Poojitha_VD')\u001b[0m\u001b[0;34m\u001b[0m\u001b[0;34m\u001b[0m\u001b[0m\n\u001b[1;32m      9\u001b[0m \u001b[0;34m\u001b[0m\u001b[0m\n\u001b[0;32m---> 10\u001b[0;31m     \u001b[0;32mfor\u001b[0m \u001b[0mr\u001b[0m \u001b[0;32min\u001b[0m \u001b[0mtwitter\u001b[0m\u001b[0;34m.\u001b[0m\u001b[0mrequest\u001b[0m\u001b[0;34m(\u001b[0m\u001b[0;34m'friends/list'\u001b[0m\u001b[0;34m,\u001b[0m \u001b[0;34m{\u001b[0m\u001b[0;34m'screen_name'\u001b[0m\u001b[0;34m:\u001b[0m \u001b[0mtweets\u001b[0m\u001b[0;34m[\u001b[0m\u001b[0mi\u001b[0m\u001b[0;34m]\u001b[0m\u001b[0;34m[\u001b[0m\u001b[0;34m'user'\u001b[0m\u001b[0;34m]\u001b[0m\u001b[0;34m[\u001b[0m\u001b[0;34m'screen_name'\u001b[0m\u001b[0;34m]\u001b[0m\u001b[0;34m,\u001b[0m \u001b[0;34m'count'\u001b[0m\u001b[0;34m:\u001b[0m\u001b[0;36m100\u001b[0m\u001b[0;34m}\u001b[0m\u001b[0;34m)\u001b[0m\u001b[0;34m:\u001b[0m\u001b[0;34m\u001b[0m\u001b[0m\n\u001b[0m\u001b[1;32m     11\u001b[0m         \u001b[0mf\u001b[0m\u001b[0;34m.\u001b[0m\u001b[0mappend\u001b[0m\u001b[0;34m(\u001b[0m\u001b[0mr\u001b[0m\u001b[0;34m)\u001b[0m\u001b[0;34m\u001b[0m\u001b[0m\n\u001b[1;32m     12\u001b[0m         \u001b[0mi\u001b[0m \u001b[0;34m+=\u001b[0m\u001b[0;36m1\u001b[0m\u001b[0;34m\u001b[0m\u001b[0m\n",
      "\u001b[0;32m/Library/Frameworks/Python.framework/Versions/3.5/lib/python3.5/site-packages/TwitterAPI/TwitterAPI.py\u001b[0m in \u001b[0;36m__iter__\u001b[0;34m(self)\u001b[0m\n\u001b[1;32m    187\u001b[0m         \u001b[0;34m:\u001b[0m\u001b[0mraises\u001b[0m\u001b[0;34m:\u001b[0m \u001b[0mTwitterConnectionError\u001b[0m\u001b[0;34m,\u001b[0m \u001b[0mTwitterRequestError\u001b[0m\u001b[0;34m\u001b[0m\u001b[0m\n\u001b[1;32m    188\u001b[0m         \"\"\"\n\u001b[0;32m--> 189\u001b[0;31m         \u001b[0;32mreturn\u001b[0m \u001b[0mself\u001b[0m\u001b[0;34m.\u001b[0m\u001b[0mget_iterator\u001b[0m\u001b[0;34m(\u001b[0m\u001b[0;34m)\u001b[0m\u001b[0;34m\u001b[0m\u001b[0m\n\u001b[0m\u001b[1;32m    190\u001b[0m \u001b[0;34m\u001b[0m\u001b[0m\n\u001b[1;32m    191\u001b[0m     \u001b[0;32mdef\u001b[0m \u001b[0mget_rest_quota\u001b[0m\u001b[0;34m(\u001b[0m\u001b[0mself\u001b[0m\u001b[0;34m)\u001b[0m\u001b[0;34m:\u001b[0m\u001b[0;34m\u001b[0m\u001b[0m\n",
      "\u001b[0;32m/Library/Frameworks/Python.framework/Versions/3.5/lib/python3.5/site-packages/TwitterAPI/TwitterAPI.py\u001b[0m in \u001b[0;36mget_iterator\u001b[0;34m(self)\u001b[0m\n\u001b[1;32m    174\u001b[0m         \"\"\"\n\u001b[1;32m    175\u001b[0m         \u001b[0;32mif\u001b[0m \u001b[0mself\u001b[0m\u001b[0;34m.\u001b[0m\u001b[0mresponse\u001b[0m\u001b[0;34m.\u001b[0m\u001b[0mstatus_code\u001b[0m \u001b[0;34m!=\u001b[0m \u001b[0;36m200\u001b[0m\u001b[0;34m:\u001b[0m\u001b[0;34m\u001b[0m\u001b[0m\n\u001b[0;32m--> 176\u001b[0;31m             \u001b[0;32mraise\u001b[0m \u001b[0mTwitterRequestError\u001b[0m\u001b[0;34m(\u001b[0m\u001b[0mself\u001b[0m\u001b[0;34m.\u001b[0m\u001b[0mresponse\u001b[0m\u001b[0;34m.\u001b[0m\u001b[0mstatus_code\u001b[0m\u001b[0;34m)\u001b[0m\u001b[0;34m\u001b[0m\u001b[0m\n\u001b[0m\u001b[1;32m    177\u001b[0m \u001b[0;34m\u001b[0m\u001b[0m\n\u001b[1;32m    178\u001b[0m         \u001b[0;32mif\u001b[0m \u001b[0mself\u001b[0m\u001b[0;34m.\u001b[0m\u001b[0mstream\u001b[0m\u001b[0;34m:\u001b[0m\u001b[0;34m\u001b[0m\u001b[0m\n",
      "\u001b[0;31mTwitterRequestError\u001b[0m: Twitter request failed (429)"
     ]
    }
   ],
   "source": []
  },
  {
   "cell_type": "code",
   "execution_count": 409,
   "metadata": {
    "collapsed": false
   },
   "outputs": [],
   "source": [
    "def cluster():\n",
    "    trump_tweets = load_file('trump_tweets.txt')\n",
    "    hillary_tweets = load_file('hillary_tweets.txt')\n",
    "    \n",
    "    trump_tweets1 = [t for t in trump_tweets if 'user' in t]\n",
    "    hillary_tweets1 = [t for t in hillary_tweets if 'user' in t]\n",
    "    \n",
    "    for t in trump_tweets1:\n",
    "        G.add_node(t['user']['screen_name'])\n",
    "    for h in hillary_tweets1:\n",
    "        G.add_node(h['user']['screen_name'])\n",
    "        \n",
    "    for x in range(0, len(trump_tweets1)):\n",
    "        G.add_edge(trump_tweets1[x]['user']['screen_name'], trump_tweets1[x+1]['user']['screen_name'])\n",
    "    \n",
    "    for x in range(0, len(hillary_tweets1)):\n",
    "        G.add_edge(hillary_tweets1[x]['user']['screen_name'], hillary_tweets1[x+1]['user']['screen_name'])\n",
    "        \n",
    "    nx.draw()\n",
    "    plt.savefig('graph.png')\n"
   ]
  },
  {
   "cell_type": "code",
   "execution_count": 408,
   "metadata": {
    "collapsed": true
   },
   "outputs": [],
   "source": [
    "def girvan_newman(G, most_valuable_edge=None):\n",
    "    if G.number_of_edges() == 0:\n",
    "        yield tuple(nx.connected_components(G))\n",
    "        return\n",
    "    if most_valuable_edge is None:\n",
    "        def most_valuable_edge(G):\n",
    "            betweenness = nx.edge_betweenness_centrality(G)\n",
    "            return max(betweenness, key=betweenness.get)\n",
    "    g = G.copy().to_undirected()\n",
    "    g.remove_edges_from(g.selfloop_edges())\n",
    "    while g.number_of_edges() > 0:\n",
    "        yield _without_most_central_edges(g, most_valuable_edge)\n",
    "def _without_most_central_edges(G, most_valuable_edge):\n",
    "    original_num_components = nx.number_connected_components(G)\n",
    "    num_new_components = original_num_components\n",
    "    while num_new_components <= original_num_components:\n",
    "        edge = most_valuable_edge(G)\n",
    "        G.remove_edge(*edge)\n",
    "        new_components = tuple(nx.connected_components(G))\n",
    "        num_new_components = len(new_components)\n",
    "    return new_components"
   ]
  },
  {
   "cell_type": "code",
   "execution_count": null,
   "metadata": {
    "collapsed": true
   },
   "outputs": [],
   "source": [
    "def summarize():\n",
    "    trump_tweets = load_file('trump_tweets.txt')\n",
    "    hillary_tweets = load_file('hillary_tweets.txt')\n",
    "    hillary_positives = load_file('hillary_positive.txt')\n",
    "    hillary_negatives = load_file('hillary_negative.txt')\n",
    "    trump_positives = load_file('trump_positive.txt')\n",
    "    trump_negatives = load_file('trump_negative.txt')\n",
    "    \n",
    "    trump_tweets1 = [t for t in trump_tweets if 'user' in t]\n",
    "    hillary_tweets1 = [t for t in hillary_tweets if 'user' in t]\n",
    "    \n",
    "    total = len(trump_tweets1) + len(hillary_tweets1)\n",
    "    \n",
    "    save_file('summary.txt','Total Users :')\n",
    "    save_file('summary.txt',total)\n",
    "    \n",
    "    save_file('summary.txt','No of messages :')\n",
    "    save_file('summary.txt',len(trump_tweets) + len(hillary_tweets))\n",
    "    \n",
    "    res = []\n",
    "    for tweet, pos, neg in sorted(hillary_positives, key=lambda x: x[1], reverse=True):\n",
    "        top pos = pos\n",
    "        top neg = neg\n",
    "        t = tweet\n",
    "        res.append(pos,neg,tweet)\n",
    "        save_file('summary.txt','Top positive sentiment tweet for Hillary :')\n",
    "        save_file('summary.txt',res)\n",
    "    \n",
    "        break\n",
    "        \n",
    "    for tweet, pos, neg in sorted(hillary_negatives, key=lambda x: x[1], reverse=True):\n",
    "        top pos = pos\n",
    "        top neg = neg\n",
    "        t = tweet\n",
    "        res.append(pos,neg,tweet)\n",
    "        save_file('summary.txt','Top negative sentiment tweet for Hillary :')\n",
    "        save_file('summary.txt',res)\n",
    "        break\n",
    "        \n",
    "    for tweet, pos, neg in sorted(trump_positives, key=lambda x: x[1], reverse=True):\n",
    "        top pos = pos\n",
    "        top neg = neg\n",
    "        t = tweet\n",
    "        res.append(pos,neg,tweet)\n",
    "        save_file('summary.txt','Top positive sentiment tweet for Trump :')\n",
    "        save_file('summary.txt',res)\n",
    "        break\n",
    "        \n",
    "    for tweet, pos, neg in sorted(trump_negatives, key=lambda x: x[1], reverse=True):\n",
    "        top pos = pos\n",
    "        top neg = neg\n",
    "        t = tweet\n",
    "        res.append(pos,neg,tweet)\n",
    "        save_file('summary.txt','Top negative sentiment tweet for Trump :')\n",
    "        save_file('summary.txt',res)\n",
    "        break\n",
    "        \n",
    "        \n",
    "    "
   ]
  },
  {
   "cell_type": "code",
   "execution_count": null,
   "metadata": {
    "collapsed": true
   },
   "outputs": [],
   "source": []
  }
 ],
 "metadata": {
  "kernelspec": {
   "display_name": "Python 3",
   "language": "python",
   "name": "python3"
  },
  "language_info": {
   "codemirror_mode": {
    "name": "ipython",
    "version": 3
   },
   "file_extension": ".py",
   "mimetype": "text/x-python",
   "name": "python",
   "nbconvert_exporter": "python",
   "pygments_lexer": "ipython3",
   "version": "3.5.2"
  }
 },
 "nbformat": 4,
 "nbformat_minor": 1
}
